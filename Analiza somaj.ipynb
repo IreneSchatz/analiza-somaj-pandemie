{
 "cells": [
  {
   "cell_type": "code",
   "execution_count": 7,
   "id": "b479f4c9-8d85-4073-8740-2816e2d9bdc6",
   "metadata": {},
   "outputs": [],
   "source": [
    "import pandas as pd\n",
    "import numpy as np"
   ]
  },
  {
   "cell_type": "code",
   "execution_count": 9,
   "id": "6f974dec-29de-4688-acbe-b6a4420cb924",
   "metadata": {},
   "outputs": [],
   "source": [
    "# Importare date pe ani\n",
    "# Anul 2019\n",
    "\n",
    "df_gen_2019 = pd.read_csv(\"gen-2019.csv\")\n",
    "df_medii_2019 = pd.read_csv(\"medii-2019.csv\")\n",
    "df_educatie_2019 = pd.read_csv(\"educatie-2019.csv\")\n",
    "df_varste_2019 = pd.read_csv(\"varste-2019.csv\")\n",
    "\n",
    "## Anul 2020\n",
    "\n",
    "df_gen_2020 = pd.read_csv(\"gen-2020.csv\")\n",
    "df_medii_2020 = pd.read_csv(\"medii-2020.csv\")\n",
    "df_educatie_2020 = pd.read_csv(\"educatie-2020.csv\")\n",
    "df_varste_2020 = pd.read_csv(\"varste-2020.csv\")\n",
    "\n",
    "## Anul 2024\n",
    "\n",
    "df_gen_2024 = pd.read_csv(\"gen-2024.csv\")\n",
    "df_medii_2024 = pd.read_csv(\"medii-2024.csv\")\n",
    "df_educatie_2024 = pd.read_csv(\"educatie-2024.csv\")\n",
    "df_varste_2024 = pd.read_csv(\"varste-2024.csv\")"
   ]
  },
  {
   "cell_type": "code",
   "execution_count": 11,
   "id": "2d3c034c-5584-401f-9a8a-adccf3419e8f",
   "metadata": {},
   "outputs": [],
   "source": [
    "# Adaugare coloana \"an\" la fiecare\n",
    "df_gen_2019[\"an\"] = 2019\n",
    "df_medii_2019[\"an\"] = 2019\n",
    "df_educatie_2019[\"an\"] = 2019\n",
    "df_varste_2019[\"an\"] = 2019\n",
    "\n",
    "df_gen_2020[\"an\"] = 2020\n",
    "df_medii_2020[\"an\"] = 2020\n",
    "df_educatie_2020[\"an\"] = 2020\n",
    "df_varste_2020[\"an\"] = 2020\n",
    "\n",
    "df_gen_2024[\"an\"] = 2024\n",
    "df_medii_2024[\"an\"] = 2024\n",
    "df_educatie_2024[\"an\"] = 2024\n",
    "df_varste_2024[\"an\"] = 2024"
   ]
  },
  {
   "cell_type": "code",
   "execution_count": 21,
   "id": "f7198ef1-be35-42d9-bb36-70553cb33900",
   "metadata": {},
   "outputs": [],
   "source": [
    "# Curatare coloane (spatii, caractere in plus etc.)\n",
    "\n",
    "df_gen_2019.columns = df_gen_2019.columns.str.strip().str.lower().str.replace(' ', '_')\n",
    "df_gen_2020.columns = df_gen_2020.columns.str.strip().str.lower().str.replace(' ', '_')\n",
    "df_gen_2024.columns = df_gen_2024.columns.str.strip().str.lower().str.replace(' ', '_')\n",
    "\n",
    "df_medii_2019.columns = df_medii_2019.columns.str.strip().str.lower().str.replace(' ', '_')\n",
    "df_medii_2020.columns = df_medii_2020.columns.str.strip().str.lower().str.replace(' ', '_')\n",
    "df_medii_2024.columns = df_medii_2024.columns.str.strip().str.lower().str.replace(' ', '_')\n",
    "\n",
    "df_educatie_2019.columns = df_educatie_2019.columns.str.strip().str.lower().str.replace(' ', '_')\n",
    "df_educatie_2020.columns = df_educatie_2020.columns.str.strip().str.lower().str.replace(' ', '_')\n",
    "df_educatie_2024.columns = df_educatie_2024.columns.str.strip().str.lower().str.replace(' ', '_')\n",
    "\n",
    "df_varste_2019.columns = df_varste_2019.columns.str.strip().str.lower().str.replace(' ', '_')\n",
    "df_varste_2020.columns = df_varste_2020.columns.str.strip().str.lower().str.replace(' ', '_')\n",
    "df_varste_2024.columns = df_varste_2024.columns.str.strip().str.lower().str.replace(' ', '_')"
   ]
  },
  {
   "cell_type": "code",
   "execution_count": 25,
   "id": "d9c8af16-ca23-4da8-9ac6-812641d11d8d",
   "metadata": {},
   "outputs": [
    {
     "name": "stdout",
     "output_type": "stream",
     "text": [
      "['judet', 'total_someri', 'total_someri_femei', 'total_someri_barbati', 'someri_indemnizati', 'someri_neindemnizati', 'rata_somaj', 'rata_somaj_femei', 'rata_somaj_barbati', 'an']\n"
     ]
    }
   ],
   "source": [
    "print(df_gen_2019.columns.tolist())"
   ]
  },
  {
   "cell_type": "code",
   "execution_count": 59,
   "id": "e0407a72-0bdc-4a20-8842-bb466aefbca2",
   "metadata": {},
   "outputs": [],
   "source": [
    "# Eliminare spatii din numele judetelor\n",
    "df_medii_2019['judet'] = df_medii_2019['judet'].str.strip()\n",
    "df_medii_2020['judet'] = df_medii_2020['judet'].str.strip()\n",
    "df_medii_2024['judet'] = df_medii_2024['judet'].str.strip()\n",
    "\n",
    "# Corectare nume judet\n",
    "map_judete = {'SATU M.':'SATU MARE'}\n",
    "df_gen_2019['judet'] = df_gen_2019['judet'].replace(map_judete)\n",
    "df_gen_2020['judet'] = df_gen_2020['judet'].replace(map_judete)\n",
    "df_gen_2024['judet'] = df_gen_2024['judet'].replace(map_judete)"
   ]
  },
  {
   "cell_type": "code",
   "execution_count": 61,
   "id": "031028b5-5290-444b-bfbc-f939065168bb",
   "metadata": {},
   "outputs": [],
   "source": [
    "# Combinare categorii\n",
    "\n",
    "df_gen_total = pd.concat([df_gen_2019, df_gen_2020, df_gen_2024], ignore_index=True)\n",
    "df_medii_total = pd.concat([df_medii_2019, df_medii_2020, df_medii_2024], ignore_index=True)\n",
    "df_educatie_total = pd.concat([df_educatie_2019, df_educatie_2020, df_educatie_2024], ignore_index=True)\n",
    "df_varste_total = pd.concat([df_varste_2019, df_varste_2020, df_varste_2024], ignore_index=True)"
   ]
  },
  {
   "cell_type": "code",
   "execution_count": 75,
   "id": "afcd7aef-d245-4a70-8fd1-ef8c6383c9bb",
   "metadata": {},
   "outputs": [],
   "source": [
    "# Ordonare coloane in dataframe-ul de medii (PowerBI issue)\n",
    "df_medii_total = df_medii_total[['judet', 'an', \n",
    "                     'total_urban', 'femei_urban', 'barbati_urban',\n",
    "                     'total_rural', 'femei_rural', 'barbati_rural']]"
   ]
  },
  {
   "cell_type": "code",
   "execution_count": 77,
   "id": "e1549524-c211-42b5-b3b4-29a8898eba70",
   "metadata": {},
   "outputs": [
    {
     "name": "stdout",
     "output_type": "stream",
     "text": [
      "<class 'pandas.core.frame.DataFrame'>\n",
      "RangeIndex: 129 entries, 0 to 128\n",
      "Data columns (total 10 columns):\n",
      " #   Column                Non-Null Count  Dtype  \n",
      "---  ------                --------------  -----  \n",
      " 0   judet                 129 non-null    object \n",
      " 1   total_someri          129 non-null    object \n",
      " 2   total_someri_femei    129 non-null    object \n",
      " 3   total_someri_barbati  129 non-null    object \n",
      " 4   someri_indemnizati    129 non-null    object \n",
      " 5   someri_neindemnizati  129 non-null    object \n",
      " 6   rata_somaj            129 non-null    float64\n",
      " 7   rata_somaj_femei      129 non-null    float64\n",
      " 8   rata_somaj_barbati    129 non-null    float64\n",
      " 9   an                    129 non-null    int64  \n",
      "dtypes: float64(3), int64(1), object(6)\n",
      "memory usage: 10.2+ KB\n"
     ]
    }
   ],
   "source": [
    "# Verificare structura + export\n",
    "\n",
    "df_gen_total.info()\n",
    "df_gen_total.head()\n",
    "\n",
    "df_gen_total.to_csv(\"gen_total.csv\", index=False)\n",
    "df_medii_total.to_csv(\"medii_total.csv\", index=False)\n",
    "df_educatie_total.to_csv(\"educatie_total.csv\", index=False)\n",
    "df_varste_total.to_csv(\"varste_total.csv\", index=False)"
   ]
  },
  {
   "cell_type": "code",
   "execution_count": 79,
   "id": "c3278b17-b0d5-4379-88c7-2e20928ee8b5",
   "metadata": {},
   "outputs": [],
   "source": [
    "# Transformare in long format\n",
    "\n",
    "df_gen_long = pd.melt(\n",
    "    df_gen_total,\n",
    "    id_vars=[\"judet\", \"an\"],\n",
    "    value_vars=[\"rata_somaj\", \"rata_somaj_femei\", \"rata_somaj_barbati\"],\n",
    "    var_name=\"gen\",\n",
    "    value_name=\"rata\"\n",
    ")\n",
    "\n",
    "df_medii_long = pd.melt(\n",
    "    df_medii_total,\n",
    "    id_vars=[\"judet\", \"an\"],\n",
    "    value_vars=[\n",
    "        \"total_urban\",\n",
    "        \"femei_urban\",\n",
    "        \"barbati_urban\",\n",
    "        \"total_rural\",\n",
    "        \"femei_rural\",\n",
    "        \"barbati_rural\"\n",
    "    ],\n",
    "    var_name=\"mediu\",\n",
    "    value_name=\"numar_someri\"\n",
    ")\n",
    "\n",
    "df_educatie_long = pd.melt(\n",
    "    df_educatie_total,\n",
    "    id_vars=[\"judet\", \"an\"],\n",
    "    value_vars=[\n",
    "        \"fara_studii\",\n",
    "        \"inv_primar\",\n",
    "        \"inv_gimnazial\",\n",
    "        \"inv_liceal\",\n",
    "        \"inv_posticeal\",\n",
    "        \"inv_profesional\",\n",
    "        \"inv_universitar\"\n",
    "    ],\n",
    "    var_name=\"nivel_educatie\",\n",
    "    value_name=\"numar_someri\"\n",
    ")\n",
    "\n",
    "df_varste_long = pd.melt(\n",
    "    df_varste_total,\n",
    "    id_vars=[\"judet\", \"an\"],\n",
    "    value_vars=[\n",
    "        \"sub_25\",\n",
    "        \"25_29\",\n",
    "        \"30_39\",\n",
    "        \"40_49\",\n",
    "        \"50_55\",\n",
    "        \"peste_55\"\n",
    "    ],\n",
    "    var_name=\"categorie_varsta\",\n",
    "    value_name=\"numar_someri\"\n",
    ")"
   ]
  },
  {
   "cell_type": "code",
   "execution_count": 81,
   "id": "2855b64b-ee89-4993-bb2c-6b0654f5982f",
   "metadata": {},
   "outputs": [],
   "source": [
    "# Export long format\n",
    "df_gen_long.to_csv(\"gen_long.csv\", index=False)\n",
    "df_medii_long.to_csv(\"medii_long.csv\", index=False)\n",
    "df_educatie_long.to_csv(\"educatie_long.csv\", index=False)\n",
    "df_varste_long.to_csv(\"varste_long.csv\", index=False)"
   ]
  },
  {
   "cell_type": "code",
   "execution_count": null,
   "id": "48a68efc-1f69-4de4-b278-898a7cfce89a",
   "metadata": {},
   "outputs": [],
   "source": []
  }
 ],
 "metadata": {
  "kernelspec": {
   "display_name": "Python [conda env:base] *",
   "language": "python",
   "name": "conda-base-py"
  },
  "language_info": {
   "codemirror_mode": {
    "name": "ipython",
    "version": 3
   },
   "file_extension": ".py",
   "mimetype": "text/x-python",
   "name": "python",
   "nbconvert_exporter": "python",
   "pygments_lexer": "ipython3",
   "version": "3.12.7"
  }
 },
 "nbformat": 4,
 "nbformat_minor": 5
}
